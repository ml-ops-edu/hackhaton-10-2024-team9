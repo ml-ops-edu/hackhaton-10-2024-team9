{
 "cells": [
  {
   "cell_type": "markdown",
   "id": "a53b2192-f17c-44a7-a091-723b02ccfa81",
   "metadata": {},
   "source": [
    "Install the Trino client for python"
   ]
  },
  {
   "cell_type": "code",
   "execution_count": null,
   "id": "9cbfb464-55ff-4079-9c93-f643bbae66cc",
   "metadata": {},
   "outputs": [],
   "source": [
    "!pip install trino"
   ]
  },
  {
   "cell_type": "markdown",
   "id": "1defe775-150a-49e9-9bdc-1c1a070a4db0",
   "metadata": {},
   "source": [
    "Import the packages and load the configuration.\n",
    "\n",
    "The _creds_ configuration contains your secrets, you must provide them (in ~/.ssh/trino.ini in this example):\n",
    "```\n",
    "[default]\n",
    "user=your username\n",
    "pass=your password\n",
    "```"
   ]
  },
  {
   "cell_type": "code",
   "execution_count": null,
   "id": "b716330b-7039-481e-87c9-5715add7a100",
   "metadata": {},
   "outputs": [],
   "source": [
    "import configparser\n",
    "import os\n",
    "from trino.auth import BasicAuthentication\n",
    "from trino.dbapi import connect"
   ]
  },
  {
   "cell_type": "code",
   "execution_count": null,
   "id": "0fd15332-2616-4c28-8256-ad0a1db773ed",
   "metadata": {},
   "outputs": [],
   "source": [
    "creds = configparser.ConfigParser()\n",
    "creds.read(os.getenv('HOME') + '/.ssh/trino.ini')\n",
    "config = configparser.RawConfigParser()\n",
    "config.read('config.ini')"
   ]
  },
  {
   "cell_type": "markdown",
   "id": "29d72229-819a-4d88-ac2b-8794c541163f",
   "metadata": {},
   "source": [
    "Open a connection with Trino"
   ]
  },
  {
   "cell_type": "code",
   "execution_count": null,
   "id": "f712f2a0-6dcb-40c7-9aeb-4970145c272c",
   "metadata": {},
   "outputs": [],
   "source": [
    "print(f\"Connect to {config.get('default','scheme')}://{config.get('default','host')}:{config.get('default','port')}/\")\n",
    "conn = connect(\n",
    "    http_scheme=config.get('default', 'scheme'),\n",
    "    host=config.get('default','host'),\n",
    "    port=config.get('default','port'),\n",
    "    user=creds.get('default', 'user'),\n",
    "    auth=BasicAuthentication(creds.get('default','user'), creds.get('default','pass'))\n",
    ")"
   ]
  },
  {
   "cell_type": "markdown",
   "id": "3e0311a2-3371-4954-8185-03454a5685ac",
   "metadata": {},
   "source": [
    "Prepare the SQL query:\n",
    "- _stop_: names and geolocations SBB stops\n",
    "- _shape_: geospatial shapes of the swiss city boundaries (administrative zones)\n",
    "- _geo_tagged_stop_: table derived from _stop_ and _shape_ placing stops in their respective cities\n",
    "- _geo_tagged_istdaten_: actual arrival and departure delays, with information about day of week, hour and city containing the stop (from geo_tagged_stop)"
   ]
  },
  {
   "cell_type": "code",
   "execution_count": null,
   "id": "505eaec4-9337-4675-a6ba-ab18ebc93a4c",
   "metadata": {},
   "outputs": [],
   "source": [
    "aggregatePercentiles = f\"\"\"\n",
    "\n",
    "WITH\n",
    "    stop  AS (\n",
    "        SELECT TRY(CAST(substr(stop_id,1,7) as INTEGER)) as bpuic, stop_lat, stop_lon\n",
    "        FROM iceberg.com490_ice.sbb_stops_parquet_part\n",
    "        WHERE year=2024 AND month=9 AND day=9\n",
    "    ),\n",
    "    shape AS (\n",
    "        SELECT ST_GeomFromBinary(wkb_geometry) as geometry, name\n",
    "        FROM iceberg.com490_ice.geo_parquet\n",
    "        WHERE level='city'\n",
    "    ),\n",
    "    geo_tagged_stop AS (\n",
    "        SELECT stop.bpuic, stop.stop_lat, stop.stop_lon, shape.name\n",
    "        FROM stop\n",
    "        JOIN shape ON ST_Contains(shape.geometry, ST_Point(stop.stop_lon, stop.stop_lat))\n",
    "    ),\n",
    "    geo_tagged_istdaten AS (\n",
    "        SELECT day_of_week(istdaten.arr_actual) as day_week,\n",
    "               hour(istdaten.arr_actual) hour_day,\n",
    "               (istdaten.arr_actual - istdaten.arr_time) as arr_delay,\n",
    "               (istdaten.dep_actual - istdaten.dep_time) as dep_delay,\n",
    "               geo_tagged_stop.name\n",
    "        FROM iceberg.com490_ice.sbb_istdaten_parquet_part AS istdaten\n",
    "        JOIN geo_tagged_stop USING (bpuic)\n",
    "    )\n",
    "\n",
    "SELECT AVG(arr_delay) as arr_delay, AVG(dep_delay) as dep_delay,\n",
    "       COUNT() as num, approx_percentile(to_milliseconds(arr_delay)/1000,\n",
    "       ARRAY[0.25,0.5,0.75]) as percentiles, hour_day, name\n",
    "       FROM geo_tagged_istdaten WHERE day_week>=1 AND day_week <= 5  GROUP BY name,hour_day ORDER BY name,hour_day\n",
    "\"\"\""
   ]
  },
  {
   "cell_type": "markdown",
   "id": "9cd8b346-c39d-4d80-8eef-e8c918369a34",
   "metadata": {},
   "source": [
    "Execute the query and get the results.\n",
    "\n",
    "You can for instance iterate the cursor and write the rows to file or create a pandas DataFrame.\n",
    "\n",
    "```\n",
    "%%time\n",
    "from contextlib import closing\n",
    "import pandas as pd\n",
    "with closing(conn.cursor()) as cur:\n",
    "    cur.execute(aggregatePercentiles)\n",
    "    columns = [col[0] for col in cur.description]\n",
    "    df = pd.DataFrame(cur, columns=columns)\n",
    "```\n",
    "\n",
    "You can also directly use the pandas.read_sql_query directly. If using this second option you will need to suppress a warning, because pandas does not know that Trino is DBAPI2 compliant"
   ]
  },
  {
   "cell_type": "code",
   "execution_count": null,
   "id": "bc5d1097-6b86-4681-a6f9-21105c887faa",
   "metadata": {},
   "outputs": [],
   "source": [
    "%%time\n",
    "import pandas as pd\n",
    "import warnings\n",
    "\n",
    "with warnings.catch_warnings():\n",
    "    # Catch UserWarning: pandas works without warnings with sqlite and SQLAlchemy only\n",
    "    warnings.simplefilter(\"ignore\", category=UserWarning)\n",
    "    df = pd.read_sql_query(aggregatePercentiles, conn)"
   ]
  },
  {
   "cell_type": "code",
   "execution_count": null,
   "id": "5d5d5c40-8522-4af4-9f8f-635fa78b5bd5",
   "metadata": {},
   "outputs": [],
   "source": [
    "df"
   ]
  },
  {
   "cell_type": "code",
   "execution_count": null,
   "id": "f165afc0-0c57-40a4-bedb-b8cad050b7a5",
   "metadata": {},
   "outputs": [],
   "source": [
    "conn.close()"
   ]
  },
  {
   "cell_type": "code",
   "execution_count": null,
   "id": "0b1a072b-44a7-4f98-be8e-21314b15a004",
   "metadata": {},
   "outputs": [],
   "source": []
  }
 ],
 "metadata": {
  "kernelspec": {
   "display_name": "Python 3 (ipykernel)",
   "language": "python",
   "name": "python3"
  },
  "language_info": {
   "codemirror_mode": {
    "name": "ipython",
    "version": 3
   },
   "file_extension": ".py",
   "mimetype": "text/x-python",
   "name": "python",
   "nbconvert_exporter": "python",
   "pygments_lexer": "ipython3",
   "version": "3.10.11"
  }
 },
 "nbformat": 4,
 "nbformat_minor": 5
}
