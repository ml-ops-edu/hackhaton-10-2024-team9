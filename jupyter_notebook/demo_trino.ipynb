{
 "cells": [
  {
   "cell_type": "code",
   "execution_count": null,
   "id": "b716330b-7039-481e-87c9-5715add7a100",
   "metadata": {},
   "outputs": [],
   "source": [
    "import configparser\n",
    "import os\n",
    "from trino.auth import BasicAuthentication\n",
    "from trino.dbapi import connect"
   ]
  },
  {
   "cell_type": "code",
   "execution_count": null,
   "id": "0fd15332-2616-4c28-8256-ad0a1db773ed",
   "metadata": {},
   "outputs": [],
   "source": [
    "config = configparser.ConfigParser()\n",
    "config.read('config.ini')\n",
    "creds = configparser.ConfigParser()\n",
    "creds.read(os.getenv('HOME') + '/.ssh/trino.ini')"
   ]
  },
  {
   "cell_type": "code",
   "execution_count": null,
   "id": "f712f2a0-6dcb-40c7-9aeb-4970145c272c",
   "metadata": {},
   "outputs": [],
   "source": [
    "print(f\"{config.get('default','scheme')}://{config.get('default','host')}:{config.get('default','port')}/\")\n",
    "conn = connect(\n",
    "    http_scheme=config.get('default', 'scheme'),\n",
    "    host=config.get('default','host'),\n",
    "    port=config.get('default','port'),\n",
    "    user=creds.get('default', 'user'),\n",
    "    auth=BasicAuthentication(creds.get('default','user'), creds.get('default','pass'))\n",
    ")"
   ]
  },
  {
   "cell_type": "code",
   "execution_count": null,
   "id": "505eaec4-9337-4675-a6ba-ab18ebc93a4c",
   "metadata": {},
   "outputs": [],
   "source": [
    "aggregatePercentiles = f\"\"\"\n",
    "\n",
    "WITH\n",
    "    stop  AS ( SELECT TRY(CAST(substr(stop_id,1,7) as INTEGER)) as bpuic, stop_lat, stop_lon FROM iceberg.com490_ice.sbb_stops_parquet_part WHERE year=2024 AND month=9 AND day=9),\n",
    "    shape AS ( SELECT ST_GeomFromBinary(wkb_geometry) as geometry, name FROM iceberg.com490_ice.geo_parquet WHERE level='city' ),\n",
    "    geo_tagged_stop AS ( SELECT stop.bpuic, stop.stop_lat, stop.stop_lon, shape.name FROM stop JOIN shape ON ST_Contains(shape.geometry, ST_Point(stop.stop_lon, stop.stop_lat))),\n",
    "    geo_tagged_istdaten AS (\n",
    "        SELECT day_of_week(istdaten.arr_actual) as day_week, hour(istdaten.arr_actual) hour_day, (istdaten.arr_actual - istdaten.arr_time) as arr_delay, (istdaten.dep_actual - istdaten.dep_time) as dep_delay, geo_tagged_stop.name\n",
    "        FROM iceberg.com490_ice.sbb_istdaten_parquet_part AS istdaten JOIN geo_tagged_stop USING (bpuic)\n",
    "    )\n",
    "-- SELECT COUNT(), name FROM geo_tagged_istdaten GROUP BY name\n",
    "SELECT AVG(arr_delay) as arr_delay, AVG(dep_delay) as dep_delay, COUNT() as num, approx_percentile(to_milliseconds(arr_delay)/1000, ARRAY[0.25,0.5,0.75]), hour_day, name FROM geo_tagged_istdaten WHERE day_week>=1 AND day_week <= 5  GROUP BY name,hour_day ORDER BY name,hour_day\n",
    "\"\"\""
   ]
  },
  {
   "cell_type": "code",
   "execution_count": null,
   "id": "17b5653a-f91f-4dab-aad3-08933fcda766",
   "metadata": {},
   "outputs": [],
   "source": [
    "from contextlib import closing\n",
    "with closing(conn.cursor()) as cur:\n",
    "    cur.execute(aggregatePercentiles)\n",
    "    rows = cur.fetchall()\n",
    "    for row in rows:\n",
    "       print(f\">>>>> {row}\")"
   ]
  },
  {
   "cell_type": "code",
   "execution_count": null,
   "id": "7ab5bf34-619b-4e91-b76e-a088303def65",
   "metadata": {},
   "outputs": [],
   "source": [
    "conn.close()"
   ]
  },
  {
   "cell_type": "code",
   "execution_count": null,
   "id": "5d5d5c40-8522-4af4-9f8f-635fa78b5bd5",
   "metadata": {},
   "outputs": [],
   "source": []
  }
 ],
 "metadata": {
  "kernelspec": {
   "display_name": "Python 3 (ipykernel)",
   "language": "python",
   "name": "python3"
  },
  "language_info": {
   "codemirror_mode": {
    "name": "ipython",
    "version": 3
   },
   "file_extension": ".py",
   "mimetype": "text/x-python",
   "name": "python",
   "nbconvert_exporter": "python",
   "pygments_lexer": "ipython3",
   "version": "3.10.11"
  }
 },
 "nbformat": 4,
 "nbformat_minor": 5
}
